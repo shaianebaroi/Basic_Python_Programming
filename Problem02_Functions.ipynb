{
 "cells": [
  {
   "cell_type": "code",
   "execution_count": 1,
   "metadata": {},
   "outputs": [
    {
     "name": "stdout",
     "output_type": "stream",
     "text": [
      "0\n"
     ]
    }
   ],
   "source": [
    "#EASY01\n",
    "#FUNCTION CODE\n",
    "def my_function (x,y):\n",
    "    if (x == 0 or y == 0):\n",
    "        print (\"0\")\n",
    "    elif (y > x):\n",
    "        print (\"out of range\")\n",
    "    else:\n",
    "        answer = y / x\n",
    "        print (answer)\n",
    "        \n",
    "#MAIN CODE\n",
    "my_function (5,0)"
   ]
  },
  {
   "cell_type": "code",
   "execution_count": 2,
   "metadata": {},
   "outputs": [
    {
     "name": "stdout",
     "output_type": "stream",
     "text": [
      "Score is 31.3. You are Obese\n"
     ]
    }
   ],
   "source": [
    "#EASY02\n",
    "#FUNCTION CODE\n",
    "def my_function (height_cm, weight):\n",
    "    height_m = height_cm / 100\n",
    "    bmi = weight / (height_m ** 2)\n",
    "      \n",
    "    if bmi < 18.5 :\n",
    "        print (\"Score is\", \"%.1f\"%bmi, end = \". \")\n",
    "        print (\"You are Underweight\")\n",
    "    elif bmi >= 18.5 and bmi <= 24.9 :\n",
    "        print (\"Score is\", \"%.1f\"%bmi, end = \". \")\n",
    "        print (\"You are Normal\")\n",
    "    elif bmi >= 25 and bmi <= 30 :\n",
    "        print (\"Score is\", \"%.1f\"%bmi, end = \". \")\n",
    "        print (\"You are Overweight\")      \n",
    "    elif bmi > 30 :\n",
    "        print (\"Score is\", \"%.1f\"%bmi, end = \". \")\n",
    "        print (\"You are Obese\")\n",
    "\n",
    "#MAIN CODE\n",
    "my_function (175,96)"
   ]
  },
  {
   "cell_type": "code",
   "execution_count": 3,
   "metadata": {},
   "outputs": [
    {
     "name": "stdout",
     "output_type": "stream",
     "text": [
      "45\n"
     ]
    }
   ],
   "source": [
    "#EASY03\n",
    "#FUNCTION CODE\n",
    "def my_function (minimum, maximum, divisor):\n",
    "    count = minimum\n",
    "    sum = 0\n",
    "    while count < maximum:\n",
    "        if (count % divisor == 0):\n",
    "            sum += count\n",
    "        count += 1\n",
    "    print (sum)\n",
    "    \n",
    "#MAIN CODE\n",
    "my_function (3,16,3)"
   ]
  },
  {
   "cell_type": "code",
   "execution_count": 4,
   "metadata": {},
   "outputs": [
    {
     "name": "stdout",
     "output_type": "stream",
     "text": [
      "243.6\n"
     ]
    }
   ],
   "source": [
    "#MEDIUM01\n",
    "#FUNCTION CODE\n",
    "def my_function (name, place = \"Mohakhali\"):\n",
    "    if (name == \"BBQ Chicken Cheese Burger\"):\n",
    "        calculate_price (250, place)\n",
    "    elif (name == \"Beef Burger\"):\n",
    "        calculate_price (170, place)\n",
    "    elif (name == \"BBQ Chicken Cheese Burger\"):\n",
    "        calculate_price (250, place)\n",
    "    else:\n",
    "        print (\"Wrong Input.\")\n",
    "        \n",
    "           \n",
    "def calculate_price (meal_price, branch):\n",
    "    if (branch == \"Mohakhali\"): \n",
    "        delivery_charge = 40\n",
    "    else:\n",
    "        delivery_charge = 60\n",
    "    tax = (8/100 * meal_price)\n",
    "    total_price = meal_price + delivery_charge + tax \n",
    "    print (total_price)\n",
    "\n",
    "#MAIN CODE\n",
    "my_function (\"Beef Burger\", \"Dhanmondi\")"
   ]
  },
  {
   "cell_type": "code",
   "execution_count": 5,
   "metadata": {},
   "outputs": [
    {
     "name": "stdout",
     "output_type": "stream",
     "text": [
      "Unchanged: bob@sheba.xyz"
     ]
    }
   ],
   "source": [
    "#MEDIUM02\n",
    "#FUNCTION CODE\n",
    "def replace_domain (email_address, new_domain, old_domain = \"sheba.xyz\"):\n",
    "    #IF OLD AND NEW DOMAINS ARE THE SAME\n",
    "    if (new_domain == old_domain):\n",
    "        print (\"Unchanged:\", email_address, end = \"\" )\n",
    "    \n",
    "    #IF NEW AND OLD DOMAINS ARE NOT SAME\n",
    "    elif (new_domain != old_domain):\n",
    "        print (\"Changed: \", end = \"\")\n",
    "        count = 0\n",
    "        initials = \"\"\n",
    "        word = email_address\n",
    "        while count >= 0: \n",
    "            if (word[count]) == \"@\":\n",
    "                print (\"@\", end = \"\")\n",
    "                break\n",
    "            else:\n",
    "                initials = (word[count])\n",
    "                print (initials, end = \"\")\n",
    "            \n",
    "            count += 1\n",
    "        \n",
    "        print (new_domain)\n",
    "\n",
    "\n",
    "#MAIN CODE\n",
    "replace_domain (\"bob@sheba.xyz\", \"sheba.xyz\")"
   ]
  },
  {
   "cell_type": "code",
   "execution_count": 6,
   "metadata": {},
   "outputs": [
    {
     "name": "stdout",
     "output_type": "stream",
     "text": [
      "Vowels: e,e,o. Total number of vowels: 3\n"
     ]
    }
   ],
   "source": [
    "#MEDIUM03\n",
    "#FUNCTION CODE\n",
    "def find_vowel (name):\n",
    "    count = 0\n",
    "    vowel_count = 0\n",
    "    word = name\n",
    "    \n",
    "    #COUNTING THE VOWELS\n",
    "    while count <= (len(word) - 1): \n",
    "        if (word[count] == \"a\" or word[count] == \"e\" or word[count] == \"i\" or word[count] == \"o\" or word[count] == \"u\" or  word[count] == \"A\" or  word[count] == \"E\" or  word[count] == \"I\" or  word[count] == \"O\" or  word[count] == \"U\"):\n",
    "            vowel_count += 1\n",
    "            count += 1\n",
    "        else:\n",
    "            count += 1\n",
    "    \n",
    "   \n",
    "    #PRINTING NO VOWELS\n",
    "    if vowel_count == 0:\n",
    "        print (\"No vowels in the name\")\n",
    "   \n",
    "    #PRINTING THE VOWELS\n",
    "    else:\n",
    "        count = 0\n",
    "        vowel_count2 = 0\n",
    "        print (\"Vowels: \", end = \"\")\n",
    "        \n",
    "        while count <= (len(word) - 1): \n",
    "            if (word[count] == \"a\" or word[count] == \"e\" or word[count] == \"i\" or word[count] == \"o\" or word[count] == \"u\" or  word[count] == \"A\" or  word[count] == \"E\" or  word[count] == \"I\" or  word[count] == \"O\" or  word[count] == \"U\"):\n",
    "                print (word[count], end = \"\")\n",
    "                count += 1\n",
    "                vowel_count2 += 1 \n",
    "                \n",
    "                #PUNCTUATION CONDITION\n",
    "                if vowel_count2 == vowel_count: \n",
    "                    print(\".\", end = \"\")\n",
    "                else: \n",
    "                    print (\",\", end = \"\")\n",
    "            else:\n",
    "                count += 1\n",
    "                \n",
    "        print (\" Total number of vowels:\", vowel_count)\n",
    "    \n",
    "    \n",
    "#MAIN CODE\n",
    "find_vowel (\"Steve Jobs\")"
   ]
  },
  {
   "cell_type": "code",
   "execution_count": 8,
   "metadata": {},
   "outputs": [
    {
     "name": "stdout",
     "output_type": "stream",
     "text": [
      "Palindrome\n"
     ]
    }
   ],
   "source": [
    "#MEDIUM04\n",
    "#FUNCTION CODE\n",
    "def palindrome_checker (name):\n",
    "    \n",
    "    #CONVERTING THE NAME INTO NON-SPACE STRING\n",
    "    count = 0\n",
    "    word = str(\"\")\n",
    "    while count < len(name):\n",
    "        if (name[count] == \" \"):\n",
    "            count += 1\n",
    "            continue\n",
    "        else:\n",
    "            word += name[count]\n",
    "            count += 1\n",
    "    #print (word)\n",
    "    \n",
    "    #PRINTING THE WORD IN REVERSE\n",
    "    count2 = (len(word) - 1)\n",
    "    word2 = str(\"\")\n",
    "    while count2 >= 0:\n",
    "        word2 += word[count2]\n",
    "        count2 -= 1        \n",
    "    #print (word2)\n",
    "    \n",
    "    #PALINDROME CHECK\n",
    "    if word == word2:\n",
    "        print (\"Palindrome\")\n",
    "    else:\n",
    "        print (\"Not a palindrome\")\n",
    "    \n",
    "#MAIN CODE\n",
    "palindrome_checker(\"nurses run\") "
   ]
  },
  {
   "cell_type": "code",
   "execution_count": 9,
   "metadata": {},
   "outputs": [
    {
     "name": "stdout",
     "output_type": "stream",
     "text": [
      "Alice : 2000\n",
      "Bob : 22500\n"
     ]
    }
   ],
   "source": [
    "#HARD01\n",
    "\n",
    "from datetime import date\n",
    "import datetime\n",
    "\n",
    "#FUNCTION CODE\n",
    "def extra (name, salary, joining_date):\n",
    "    joining_date2 = joining_date.split(\"-\")\n",
    "    a = int(joining_date2[0])\n",
    "    b = int(joining_date2[1])\n",
    "    c = int(joining_date2[2])\n",
    "    date2 = date(a,b,c)\n",
    "    \n",
    "    today = datetime.datetime.now()\n",
    "    year = int(today.strftime(\"%Y\"))\n",
    "    month = int(today.strftime(\"%m\"))\n",
    "    day = int(today.strftime(\"%d\"))\n",
    "    date3 = date(year,month,day)\n",
    "    \n",
    "    limit = date3 - date2 \n",
    "    limit2 = limit.days\n",
    "    limit2 = limit2//365\n",
    "    if limit2 < 5:\n",
    "        bonus = int(((salary*10)/100))\n",
    "    elif limit2 >= 5 and limit2 <= 10:\n",
    "        bonus = int(((salary*10)/100)+5000)\n",
    "    else:\n",
    "        bonus = int(((salary*15)/100)+15000)\n",
    "    print(name,\":\", bonus)\n",
    "\n",
    "#MAIN CODE   \n",
    "extra('Alice',20000,\"2017-03-21\")\n",
    "extra(\"Bob\", 50000, \"2007-05-10\")"
   ]
  },
  {
   "cell_type": "code",
   "execution_count": 10,
   "metadata": {},
   "outputs": [
    {
     "name": "stdout",
     "output_type": "stream",
     "text": [
      "Please enter the number of days: 4320\n",
      "11 years, 10 months, 5 days\n"
     ]
    }
   ],
   "source": [
    "#HARD02\n",
    "#FUNCTION CODE\n",
    "\n",
    "days = int(input(\"Please enter the number of days: \"))\n",
    "\n",
    "def calc(days):\n",
    "    year = days / 365\n",
    "    year2 = days // 365\n",
    "    print(year2,\"years, \", end=\"\")\n",
    "    remaining = year - year2\n",
    "    remaining = abs(remaining)\n",
    "    \n",
    "    remaining = remaining * 365\n",
    "    month = remaining / 30\n",
    "    month2 = int(remaining // 30)\n",
    "    remaining2 = abs(month2 - month)\n",
    "    print(month2, \"months, \", end=\"\")\n",
    "    \n",
    "    remaining2 = remaining2 * 30\n",
    "    print(round(remaining2), \"days\")\n",
    "\n",
    "#MAIN CODE\n",
    "calc(days)"
   ]
  },
  {
   "cell_type": "code",
   "execution_count": 11,
   "metadata": {},
   "outputs": [
    {
     "name": "stdout",
     "output_type": "stream",
     "text": [
      "My favourite animal is a dog. A dog has sharp teeth so that it can eat flesh very easily. Do you know my pet dog's name? I love my pet very much.\n"
     ]
    }
   ],
   "source": [
    "#HARD03\n",
    "#FUNCTION CODE\n",
    "def check(string):\n",
    "    string = string.capitalize()\n",
    "    string = string.replace(\" i \",\" I \")\n",
    "    listString = list(string)\n",
    "    \n",
    "    count = 0\n",
    "    limit = len(string)\n",
    "    condition = limit - 1\n",
    "    while True:\n",
    "        checker = listString.index(\".\", count)\n",
    "        if checker == condition:\n",
    "            break\n",
    "        fullstop = listString.index(\".\", count)\n",
    "        listString[fullstop + 2] = listString[fullstop + 2].upper()\n",
    "        count += 1\n",
    "    \n",
    "    result = \"\".join(listString)\n",
    "    print(result)\n",
    "    \n",
    "#MAIN CODE   \n",
    "check(\"my favourite animal is a dog. a dog has sharp teeth so that it can eat flesh very easily. do you know my pet dog's name? i love my pet very much.\")"
   ]
  },
  {
   "cell_type": "code",
   "execution_count": null,
   "metadata": {},
   "outputs": [],
   "source": []
  }
 ],
 "metadata": {
  "kernelspec": {
   "display_name": "Python 3",
   "language": "python",
   "name": "python3"
  },
  "language_info": {
   "codemirror_mode": {
    "name": "ipython",
    "version": 3
   },
   "file_extension": ".py",
   "mimetype": "text/x-python",
   "name": "python",
   "nbconvert_exporter": "python",
   "pygments_lexer": "ipython3",
   "version": "3.7.6"
  }
 },
 "nbformat": 4,
 "nbformat_minor": 4
}
