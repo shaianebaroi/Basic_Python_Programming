{
 "cells": [
  {
   "cell_type": "code",
   "execution_count": 1,
   "metadata": {},
   "outputs": [
    {
     "name": "stdout",
     "output_type": "stream",
     "text": [
      "Please enter a number: 10\n",
      "Please enter a number: 20\n",
      "Please enter a number: 30\n",
      "Please enter a number: 40\n",
      "Please enter a number: 50\n",
      "Please enter a number: 60\n",
      "Please enter a number: 70\n",
      "Please enter a number: 80\n",
      "Please enter a number: 90\n",
      "Please enter a number: 100\n",
      "['100', '90', '80', '70', '60', '50', '40', '30', '20', '10']\n"
     ]
    }
   ],
   "source": [
    "#EASY01\n",
    "#CREATING LIST\n",
    "numbers = list()\n",
    "\n",
    "#INPUTTING NUMBERS\n",
    "count = 0\n",
    "while (count < 10): \n",
    "    numbers.append(input(\"Please enter a number: \"))\n",
    "    count += 1\n",
    "    \n",
    "#REVERSE    \n",
    "numbers.reverse()\n",
    "\n",
    "print(numbers)"
   ]
  },
  {
   "cell_type": "code",
   "execution_count": 2,
   "metadata": {},
   "outputs": [
    {
     "name": "stdout",
     "output_type": "stream",
     "text": [
      "Please enter the numbers: 1,3,5,9,10\n",
      "Please enter the numbers: 2,4,6,8\n",
      "['1', '3', '5', '9', '2', '4', '6', '8']\n"
     ]
    }
   ],
   "source": [
    "#EASY02\n",
    "\n",
    "#INPUTING TWO LISTS\n",
    "list1 = input(\"Please enter the numbers: \")\n",
    "list2 = input(\"Please enter the numbers: \")\n",
    "\n",
    "#CONVERTING THE STRINGS TO LISTS\n",
    "list1 = list1.split(\",\")\n",
    "list2 = list2.split(\",\")\n",
    "\n",
    "#MERGING\n",
    "list1.pop()\n",
    "list3 = list1 + list2 \n",
    "\n",
    "print(list3)"
   ]
  },
  {
   "cell_type": "code",
   "execution_count": 4,
   "metadata": {},
   "outputs": [
    {
     "name": "stdout",
     "output_type": "stream",
     "text": [
      "Please enter a number: 10\n",
      "Please enter a number: 20\n",
      "Please enter a number: 30\n",
      "Please enter a number: 30\n",
      "Duplicate is found. Please enter a number again.\n",
      "Please enter a number: 30\n",
      "Duplicate is found. Please enter a number again.\n",
      "Please enter a number: 40\n",
      "Please enter a number: 50\n",
      "Please enter a number: 50\n",
      "Duplicate is found. Please enter a number again.\n",
      "Please enter a number: 60\n",
      "Please enter a number: 70\n",
      "Please enter a number: 80\n",
      "Please enter a number: 90\n",
      "Please enter a number: 100\n",
      "['10', '20', '30', '40', '50', '60', '70', '80', '90', '100']\n"
     ]
    }
   ],
   "source": [
    "#EASY01\n",
    "\n",
    "#CREATING LIST\n",
    "numbers = list()\n",
    "\n",
    "#INPUTTING NUMBERS\n",
    "count = 0\n",
    "while (count < 10): \n",
    "    numbers.append(input(\"Please enter a number: \"))\n",
    "    count2 = 0\n",
    "    while (count2 < count):\n",
    "        if (numbers[count] == numbers[count2]):\n",
    "            print (\"Duplicate is found. Please enter a number again.\")\n",
    "            numbers.pop()\n",
    "            count -= 1\n",
    "            break\n",
    "        else: \n",
    "            count2 += 1\n",
    "    count += 1\n",
    "\n",
    "print(numbers)"
   ]
  },
  {
   "cell_type": "code",
   "execution_count": null,
   "metadata": {},
   "outputs": [],
   "source": []
  }
 ],
 "metadata": {
  "kernelspec": {
   "display_name": "Python 3",
   "language": "python",
   "name": "python3"
  },
  "language_info": {
   "codemirror_mode": {
    "name": "ipython",
    "version": 3
   },
   "file_extension": ".py",
   "mimetype": "text/x-python",
   "name": "python",
   "nbconvert_exporter": "python",
   "pygments_lexer": "ipython3",
   "version": "3.7.6"
  }
 },
 "nbformat": 4,
 "nbformat_minor": 4
}
