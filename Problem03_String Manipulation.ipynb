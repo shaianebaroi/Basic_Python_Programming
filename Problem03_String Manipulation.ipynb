{
 "cells": [
  {
   "cell_type": "code",
   "execution_count": 1,
   "metadata": {},
   "outputs": [
    {
     "name": "stdout",
     "output_type": "stream",
     "text": [
      "ppl2\n"
     ]
    }
   ],
   "source": [
    "#EASY01\n",
    "#FUNCTION CODE\n",
    "\n",
    "def vowel_remover(name):\n",
    "    count = 0\n",
    "    total = 0\n",
    "    while count < len(name):\n",
    "        if (name[count] == \"A\" or name[count] == \"E\" or name[count] == \"I\" or name[count] == \"O\" or name[count] == \"U\" or name[count] == \"a\" or name[count] == \"e\" or name[count] == \"i\" or name[count] == \"o\" or name[count] == \"u\"):\n",
    "            count += 1\n",
    "            total += 1\n",
    "            continue\n",
    "        else:\n",
    "            print (name[count], end = \"\")\n",
    "        count += 1\n",
    "    print (total)       \n",
    "\n",
    "#MAIN CODE\n",
    "vowel_remover (\"apple\")"
   ]
  },
  {
   "cell_type": "code",
   "execution_count": 2,
   "metadata": {},
   "outputs": [
    {
     "name": "stdout",
     "output_type": "stream",
     "text": [
      "True\n"
     ]
    }
   ],
   "source": [
    "#EASY02\n",
    "#FUNCTION CODE\n",
    "def palindrome_checker (name):\n",
    "    \n",
    "    #CONVERTING THE NAME INTO NON-SPACE STRING\n",
    "    count = 0\n",
    "    word = str(\"\")\n",
    "    while count < len(name):\n",
    "        if (name[count] == \" \"):\n",
    "            count += 1\n",
    "            continue\n",
    "        else:\n",
    "            word += name[count]\n",
    "            count += 1\n",
    "    #print (word)\n",
    "    \n",
    "    #PRINTING THE WORD IN REVERSE\n",
    "    count2 = (len(word) - 1)\n",
    "    word2 = str(\"\")\n",
    "    while count2 >= 0:\n",
    "        word2 += word[count2]\n",
    "        count2 -= 1        \n",
    "    #print (word2)\n",
    "    \n",
    "    #PALINDROME CHECK\n",
    "    if word == word2:\n",
    "        print (\"True\")\n",
    "    else:\n",
    "        print (\"False\")\n",
    "    \n",
    "#MAIN CODE\n",
    "palindrome_checker(\"abcba\") "
   ]
  },
  {
   "cell_type": "code",
   "execution_count": 3,
   "metadata": {},
   "outputs": [
    {
     "name": "stdout",
     "output_type": "stream",
     "text": [
      "tactfully\n"
     ]
    }
   ],
   "source": [
    "#EASY03\n",
    "#FUNCTION CODE\n",
    "\n",
    "def grammar_corrector(name):\n",
    "    if (len(name) > 4):\n",
    "        if (name[-1] == \"l\" and name[-2] == \"u\" and name[-3] == \"f\"):\n",
    "            name = name + \"ly\"\n",
    "            print (name)\n",
    "        else:\n",
    "            name = name + 'ful'\n",
    "            print (name)\n",
    "    else:\n",
    "        print (name)\n",
    "     \n",
    "\n",
    "#MAIN CODE\n",
    "grammar_corrector (\"tactful\")"
   ]
  },
  {
   "cell_type": "code",
   "execution_count": 4,
   "metadata": {},
   "outputs": [
    {
     "name": "stdout",
     "output_type": "stream",
     "text": [
      "banana\n"
     ]
    }
   ],
   "source": [
    "#MEDIUM01 \n",
    "#FUNCTION CODE\n",
    "def formatter(word):\n",
    "    count = 0\n",
    "    upperCount = 0\n",
    "    lowerCount = 0\n",
    "    while (count < len(word)):\n",
    "        if (word[count].isupper() == True): \n",
    "            #string.isupper() FUNCTION DETECTS ANY STRING IS IN UPPERCASE OR NOT AND RETURNS A VALUE OF ONLY TRUE OR FALSE.\n",
    "            #string.islower() FUNCTION DOES THE OPPOSITE.\n",
    "            upperCount += 1\n",
    "            count += 1\n",
    "        else:\n",
    "            lowerCount +=1\n",
    "            count += 1\n",
    "    #print (upperCount)\n",
    "    #print (lowerCount)\n",
    "    \n",
    "    if (upperCount > lowerCount) :\n",
    "        print (word.upper())\n",
    "        #string.upper() FUNCTION TURNS THE ENTIRE STRING INTO UPPERCASE.\n",
    "    elif (lowerCount >= upperCount):\n",
    "        print (word.lower())\n",
    "        #string.lower() FUNCTION TURNS THE ENTIRE STRING INTO LOWERCASE. \n",
    "\n",
    "#MAIN CODE\n",
    "formatter (\"baNaNa\")"
   ]
  },
  {
   "cell_type": "code",
   "execution_count": 5,
   "metadata": {},
   "outputs": [
    {
     "name": "stdout",
     "output_type": "stream",
     "text": [
      "MIXED\n"
     ]
    }
   ],
   "source": [
    "#MEDIUM02 \n",
    "#FUNCTION CODE\n",
    "def word_detector(string):\n",
    "        \n",
    "    #CHECK FOR NUMBERS\n",
    "    count = 0\n",
    "    numberCount = 0\n",
    "    while (count < len(string)):\n",
    "        try:\n",
    "            num = int (string[count])\n",
    "            numberCount += 1\n",
    "            break\n",
    "        except:\n",
    "            count += 1\n",
    "            continue        \n",
    "    #print (numberCount)\n",
    "    \n",
    "    #CHECK FOR LETTERS\n",
    "    count = 0\n",
    "    letterCount = 0\n",
    "    while (count < len(string)):\n",
    "        if (string[count].isalpha() == True): \n",
    "            #string.isupper() FUNCTION DETECTS ANY STRING IS IN UPPERCASE OR NOT AND RETURNS A VALUE OF ONLY TRUE OR FALSE.\n",
    "            letterCount += 1\n",
    "            count += 1\n",
    "        else:\n",
    "            count += 1\n",
    "            continue \n",
    "    #print (letterCount)\n",
    "    \n",
    "    #PRINTING WHAT IS WHAT\n",
    "    if (numberCount >= 1 and letterCount == 0) :\n",
    "        print (\"NUMBER\")\n",
    "    elif (letterCount >= 1 and numberCount == 0):\n",
    "        print (\"WORD\")\n",
    "    else:\n",
    "        print (\"MIXED\")\n",
    "       \n",
    "#MAIN CODE\n",
    "word_detector (\"jhg231j213\")"
   ]
  },
  {
   "cell_type": "code",
   "execution_count": 6,
   "metadata": {},
   "outputs": [
    {
     "name": "stdout",
     "output_type": "stream",
     "text": [
      "glad"
     ]
    }
   ],
   "source": [
    "#MEDIUM03\n",
    "#FUNCTION CODE\n",
    "def blank_finder(string):\n",
    "        \n",
    "    #CHECK FOR THE FIRST UPPERCASE LETTER\n",
    "    count = 0\n",
    "    while (count < len(string)):\n",
    "        if (string[count].isupper() == True):\n",
    "            #print (count)\n",
    "            break\n",
    "        count += 1\n",
    "    \n",
    "    #CHECK FOR THE SECOND UPPERCASE LETTER\n",
    "    count2 = count + 1\n",
    "    while (count < len(string)):\n",
    "        if (string[count2].isupper() == True):\n",
    "            #print (count2)\n",
    "            break\n",
    "        count2 += 1\n",
    "        \n",
    "    #PRINTING BETWEEN THE TWO LIMITS\n",
    "    if ((count2 - (count + 1)) == 0):\n",
    "        print (\"BLANK\")\n",
    "    else: \n",
    "        for count3 in range(count + 1, count2,1):\n",
    "            print (string[count3], end = \"\")\n",
    "\n",
    "#MAIN CODE\n",
    "blank_finder (\"baNgladEsh\")"
   ]
  },
  {
   "cell_type": "code",
   "execution_count": 7,
   "metadata": {},
   "outputs": [
    {
     "name": "stdout",
     "output_type": "stream",
     "text": [
      "The book is not excellent!\n"
     ]
    }
   ],
   "source": [
    "#MEDIUM04\n",
    "#FUNCTION CODE\n",
    "def word_replacer (string):\n",
    "    \n",
    "    #SEARCH FOR THE WORD TOO GOOD\n",
    "    word = \"\"\n",
    "    count = 0\n",
    "    wordcount = 0\n",
    "    while (count < len(string)):\n",
    "        if (string[count] == \"t\"):\n",
    "            count2 = count\n",
    "            \n",
    "            try: \n",
    "                while (count2 < (count + 8)):\n",
    "                    word += string[count2]\n",
    "                    count2 += 1\n",
    "            except:\n",
    "                wordcount = 0\n",
    "            \n",
    "            #print (word)            \n",
    "  \n",
    "            if (word == \"too good\"):\n",
    "                wordcount += 1\n",
    "                word = \"\"\n",
    "        word = \"\"        \n",
    "        count += 1\n",
    "        \n",
    "    #print (wordcount)\n",
    "    \n",
    "    if (wordcount >= 1):\n",
    "         answer = string.replace(\"too good\", \"excellent\")\n",
    "         print (answer)\n",
    "    else:\n",
    "        print (string)\n",
    "         \n",
    "#MAIN CODE\n",
    "word_replacer(\"The book is not too good!\")"
   ]
  },
  {
   "cell_type": "code",
   "execution_count": 8,
   "metadata": {},
   "outputs": [
    {
     "name": "stdout",
     "output_type": "stream",
     "text": [
      "hrrhr\n"
     ]
    }
   ],
   "source": [
    "#HARD01\n",
    "#FUNCTION CODE\n",
    "def letter_finder (name1, name2):\n",
    "     \n",
    "    #FINDING THE LONGER NAME\n",
    "    if (len(name1) > len(name2)):\n",
    "        longerName = name1\n",
    "        shorterName = name2\n",
    "    else:\n",
    "        longerName = name2\n",
    "        shorterName = name1\n",
    "    \n",
    "    temp1 = longerName\n",
    "    temp2 = shorterName\n",
    "        \n",
    "    #FINDING COMMON LETTERS OF SHORTER NAME IN LONGER NAME\n",
    "    #REMOVING THE COMMON LETTERS\n",
    "    word = \"\"\n",
    "    count = 0\n",
    "    while count < len(longerName):\n",
    "        if (shorterName.find(longerName[count]) != -1):\n",
    "            word += longerName[count]\n",
    "            shorterName = shorterName.replace(longerName[count],\"\")\n",
    "            longerName = longerName.replace(longerName[count],\"\")\n",
    "        count += 1\n",
    "        \n",
    "    #print (longerName)\n",
    "    #print (shorterName)\n",
    "    #print (word)\n",
    "    \n",
    "    #FINDING COMMON LETTERS IN LONGER WORD\n",
    "    count = 0\n",
    "    answer1 = \"\"\n",
    "    for count in range (len(word)):\n",
    "        count2 = 0\n",
    "        while count < len(temp1):\n",
    "            result = temp1.find(word[count], count2)\n",
    "            if (result != -1):\n",
    "                answer1 += temp1[result]\n",
    "                count2 = result\n",
    "            else:\n",
    "                break\n",
    "            count2 += 1\n",
    "    #print (answer1)\n",
    "    \n",
    "    #FINDING COMMON LETTERS IN SHORTER WORD\n",
    "    count = 0\n",
    "    answer2 = \"\"\n",
    "    for count in range (len(word)):\n",
    "        count2 = 0\n",
    "        while count < len(temp2):\n",
    "            result = temp2.find(word[count], count2)\n",
    "            if (result != -1):\n",
    "                answer2 += temp2[result]\n",
    "                count2 = result\n",
    "            else:\n",
    "                break\n",
    "            count2 += 1\n",
    "    #print (answer2)\n",
    "\n",
    "    #FINAL OUTPUT\n",
    "    if (word == \"\"):\n",
    "        print (\"Nothing in common.\")\n",
    "    else:\n",
    "        answer = answer2 + answer1\n",
    "        print (answer)\n",
    "    \n",
    "#MAIN CODE\n",
    "letter_finder (\"harry\", \"hermoine\")"
   ]
  },
  {
   "cell_type": "code",
   "execution_count": 9,
   "metadata": {},
   "outputs": [
    {
     "name": "stdout",
     "output_type": "stream",
     "text": [
      "fix\n"
     ]
    }
   ],
   "source": [
    "#HARD01\n",
    "#FUNCTION CODE\n",
    "def palindrome_finder (string):\n",
    "    \n",
    "    #COUNT FROM -1 TO MATCH FIRST LETTER\n",
    "    count = -1\n",
    "    word = \"\"\n",
    "    while (count < len(string)):\n",
    "        if (string[count] == string[0]):\n",
    "            word += string[count] \n",
    "            break\n",
    "        else:\n",
    "            word += string[count]\n",
    "        count -= 1\n",
    "    #print (word)\n",
    "    \n",
    "    #PRINTING WORD IN REVERSE\n",
    "    word2 = \"\"\n",
    "    for count in range (0, len(word), 1):\n",
    "        word2 += string[count]\n",
    "    #print (word2)\n",
    "    \n",
    "    #CUTTING THE MIDDLE PART\n",
    "    count = len(word2)\n",
    "    word3 = \"\"\n",
    "    for count in range (len(word), (len(string)-len(word)), 1):\n",
    "        word3 += string[count]\n",
    "    #print (word3)\n",
    "    \n",
    "    #FINDING THE WORD INSIDE THE WORD\n",
    "    answer = word3.find(word2)\n",
    "    #print (answer)\n",
    "    \n",
    "    #FINAL CONDITIONS\n",
    "    if (answer != -1):\n",
    "        print (word2)\n",
    "    else:\n",
    "        print (\"Not Palindrome Substring\")\n",
    "    \n",
    "#MAIN CODE\n",
    "palindrome_finder (\"fixprefixsuffix\")"
   ]
  },
  {
   "cell_type": "code",
   "execution_count": 10,
   "metadata": {},
   "outputs": [
    {
     "name": "stdout",
     "output_type": "stream",
     "text": [
      "Uppercase character missing, Digit missing, Special character missing"
     ]
    }
   ],
   "source": [
    "#HARD03\n",
    "#FUNCTION CODE\n",
    "def password_fixer (string):\n",
    "    word = \"\"\n",
    "    word2 = \"\"\n",
    "    #CHECK FOR ONE UPPERCASE\n",
    "    count = 0\n",
    "    upperCount = 0\n",
    "    while (count < len(string)):\n",
    "        if (string[count].isupper() == True):\n",
    "            upperCount += 1 \n",
    "            break\n",
    "        count += 1\n",
    "    if (upperCount == 0): \n",
    "        word += \"Uppercase character missing, \"\n",
    "    \n",
    "    #CHECK FOR ONE UPPERCASE\n",
    "    count = 0\n",
    "    lowerCount = 0\n",
    "    while (count < len(string)):\n",
    "        if (string[count].islower() == True):\n",
    "            lowerCount += 1\n",
    "            break\n",
    "        count += 1\n",
    "    if (lowerCount == 0): \n",
    "        word += \"Lowercase character missing, \"\n",
    "        \n",
    "    #CHECK FOR ONE DIGIT\n",
    "    count = 0\n",
    "    digitCount = 0\n",
    "    while (count < len(string)):\n",
    "        try:\n",
    "            newInt = int(string[count])\n",
    "            digitCount += 1\n",
    "            break\n",
    "        \n",
    "        except:\n",
    "            count += 1\n",
    "            continue\n",
    "    \n",
    "    if (digitCount == 0): \n",
    "        word += \"Digit missing, \" \n",
    "        \n",
    "    #CHECK FOR ONE SPECIAL CHARACTER\n",
    "    count = 0\n",
    "    spCharCount = 0\n",
    "    while (count < len(string)):\n",
    "        if (string[count] == \"_\" or string[count] == \"$\" or string[count] == \"#\" or string[count] == \"@\"):\n",
    "            spCharCount += 1\n",
    "            break\n",
    "        count += 1\n",
    "    if (spCharCount == 0): \n",
    "        word += \"Special character missing, \"\n",
    "    #print (word)\n",
    "    #print (word2)\n",
    "        \n",
    "    #FINAL CONDITIONS\n",
    "    if (upperCount != 0 and lowerCount != 0 and spCharCount != 0 and digitCount != 0):\n",
    "        print (\"OK\")\n",
    "           \n",
    "    #COMMA ELIMINATOR\n",
    "    elif (word[-1] == \" \" and word [-2] == \",\"):\n",
    "        count = 0\n",
    "        while (count < len(word) - 2):\n",
    "            print (word[count], end = \"\")\n",
    "            count += 1\n",
    "        \n",
    "#MAIN CODE\n",
    "password_fixer (\"ohmybracu\")"
   ]
  },
  {
   "cell_type": "code",
   "execution_count": null,
   "metadata": {},
   "outputs": [],
   "source": []
  }
 ],
 "metadata": {
  "kernelspec": {
   "display_name": "Python 3",
   "language": "python",
   "name": "python3"
  },
  "language_info": {
   "codemirror_mode": {
    "name": "ipython",
    "version": 3
   },
   "file_extension": ".py",
   "mimetype": "text/x-python",
   "name": "python",
   "nbconvert_exporter": "python",
   "pygments_lexer": "ipython3",
   "version": "3.7.6"
  }
 },
 "nbformat": 4,
 "nbformat_minor": 4
}
