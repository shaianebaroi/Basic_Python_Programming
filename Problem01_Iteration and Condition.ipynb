{
 "cells": [
  {
   "cell_type": "code",
   "execution_count": 1,
   "metadata": {},
   "outputs": [
    {
     "name": "stdout",
     "output_type": "stream",
     "text": [
      "3\n",
      "5\n",
      "6\n",
      "9\n",
      "10\n",
      "12\n",
      "15\n",
      "18\n",
      "20\n",
      "21\n",
      "24\n",
      "25\n",
      "27\n",
      "30\n"
     ]
    }
   ],
   "source": [
    "#EASY01\n",
    "\n",
    "numCount = 0\n",
    "for num in range(1, 31, 1):\n",
    "    if (num % 3 == 0) or (num % 5 == 0):\n",
    "        numCount += 1 \n",
    "        print (num)"
   ]
  },
  {
   "cell_type": "code",
   "execution_count": 2,
   "metadata": {},
   "outputs": [
    {
     "name": "stdout",
     "output_type": "stream",
     "text": [
      "Please enter three numbers.\n",
      "Please enter the first number: 17\n",
      "Please enter the second number: 53\n",
      "Please enter the third number: 33\n",
      "53\n"
     ]
    }
   ],
   "source": [
    "#EASY02\n",
    "\n",
    "print (\"Please enter three numbers.\")\n",
    "num1 = int(input(\"Please enter the first number: \"))\n",
    "num2 = int(input(\"Please enter the second number: \"))\n",
    "num3 = int(input(\"Please enter the third number: \"))\n",
    "\n",
    "if num1 > num2 and num1 > num3:\n",
    "    maximum = num1\n",
    "elif num2 > num3 and num2 > num1:\n",
    "    maximum = num2\n",
    "elif num3 > num2 and num3 > num2:\n",
    "    maximum = num3\n",
    "elif num1 == num2 and num1 == num3:\n",
    "    maximum = num1\n",
    "elif num1 == num2 and num1 > num3:\n",
    "    maximum = num1\n",
    "elif num1 == num3 and num1 > num2:\n",
    "    maximum = num1\n",
    "elif num2 == num3 and num2 > num1:\n",
    "    maximum = num2\n",
    "\n",
    "print (maximum)"
   ]
  },
  {
   "cell_type": "code",
   "execution_count": 3,
   "metadata": {},
   "outputs": [
    {
     "name": "stdout",
     "output_type": "stream",
     "text": [
      "Please enter the student's marks: 92\n",
      "A\n"
     ]
    }
   ],
   "source": [
    "#EASY03\n",
    "\n",
    "marks = int(input (\"Please enter the student's marks: \"))\n",
    "\n",
    "if marks > 100 or marks < 0:\n",
    "    print (\"Marks out of range.\")  \n",
    "if marks >= 90 and marks <= 100:\n",
    "    print (\"A\")\n",
    "elif marks >= 85 and marks <= 89:\n",
    "    print (\"A-\")\n",
    "elif marks >= 80 and marks <= 84:\n",
    "    print (\"B+\")\n",
    "elif marks >= 75 and marks <= 79:\n",
    "    print (\"B\")\n",
    "elif marks >= 70 and marks <= 74:\n",
    "    print (\"B-\")\n",
    "elif marks >= 65 and marks <= 69:\n",
    "    print (\"C+\")\n",
    "elif marks >= 60 and marks <= 64:\n",
    "    print (\"C\")\n",
    "elif marks >= 57 and marks <= 59:\n",
    "    print (\"C-\")\n",
    "elif marks >= 55 and marks <= 56:\n",
    "    print (\"D+\")\n",
    "elif marks >= 52 and marks <= 54:\n",
    "    print (\"D\")\n",
    "elif marks >= 50 and marks <= 51:\n",
    "    print (\"C-\")\n",
    "elif marks < 50 and marks >= 0: \n",
    "    print (\"F\")"
   ]
  },
  {
   "cell_type": "code",
   "execution_count": 4,
   "metadata": {},
   "outputs": [
    {
     "name": "stdout",
     "output_type": "stream",
     "text": [
      "Please enter a number: 7\n",
      "7  is a prime number.\n"
     ]
    }
   ],
   "source": [
    "#EASY04\n",
    "\n",
    "num = int(input(\"Please enter a number: \"))\n",
    "num2 = num + 1\n",
    "factorCount = 0\n",
    "for count in range(1, num2, 1):\n",
    "    if num%count == 0:\n",
    "        factorCount += 1\n",
    "#print (factorCount)\n",
    "if factorCount == 2:\n",
    "    print (num, \" is a prime number.\")\n",
    "else:\n",
    "    print (num, \" is not a prime number.\")        "
   ]
  },
  {
   "cell_type": "code",
   "execution_count": 5,
   "metadata": {},
   "outputs": [
    {
     "name": "stdout",
     "output_type": "stream",
     "text": [
      "Please enter a number: 10\n",
      "0 1 1 2 3 5 8 "
     ]
    }
   ],
   "source": [
    "#MEDIUM01\n",
    "\n",
    "num = int(input(\"Please enter a number: \"))\n",
    "\n",
    "firstNum = 0\n",
    "secondNum = 1\n",
    "thirdNum = 1\n",
    "\n",
    "print (firstNum, end = \" \")\n",
    "\n",
    "while thirdNum < num: \n",
    "    print (thirdNum, end = \" \")\n",
    "    thirdNum = firstNum + secondNum\n",
    "    firstNum = secondNum\n",
    "    secondNum = thirdNum"
   ]
  },
  {
   "cell_type": "code",
   "execution_count": 6,
   "metadata": {},
   "outputs": [
    {
     "name": "stdout",
     "output_type": "stream",
     "text": [
      "Please enter a number: 12345\n",
      "54321"
     ]
    }
   ],
   "source": [
    "#MEDIUM02\n",
    "\n",
    "num = int (input(\"Please enter a number: \"))\n",
    "num3 = num\n",
    "\n",
    "while num3 > 0: \n",
    "    num2 = num % 10\n",
    "    print (num2, end = \"\")\n",
    "    num3 = num3//10\n",
    "    num = num3"
   ]
  },
  {
   "cell_type": "code",
   "execution_count": 7,
   "metadata": {},
   "outputs": [
    {
     "name": "stdout",
     "output_type": "stream",
     "text": [
      "Please enter a number: 5\n",
      "Not Perfect\n"
     ]
    }
   ],
   "source": [
    "#MEDIUM03\n",
    "\n",
    "num = int(input(\"Please enter a number: \"))\n",
    "num2 = num + 1\n",
    "sum = 0\n",
    "factorCount = 0\n",
    "\n",
    "for count in range(1, num2, 1):\n",
    "    if num%count == 0:\n",
    "        sum = sum + count\n",
    "\n",
    "factors = sum - num\n",
    "if factors == num:\n",
    "    print (\"Perfect Number\")\n",
    "else:\n",
    "    print (\"Not Perfect\")        "
   ]
  },
  {
   "cell_type": "code",
   "execution_count": 8,
   "metadata": {},
   "outputs": [
    {
     "name": "stdout",
     "output_type": "stream",
     "text": [
      "Please enter a number: 122345\n",
      "5."
     ]
    }
   ],
   "source": [
    "#HARD01\n",
    "\n",
    "num = int(input(\"Please enter a number: \"))\n",
    "modNum = num \n",
    "digitCount = 0\n",
    "\n",
    "#COUNTING THE NUMBER OF DIGITS\n",
    "while num >= 1 :\n",
    "    num = num // 10\n",
    "    modNum2 = modNum\n",
    "    modNum = num%10\n",
    "    #print (num)\n",
    "    #print (modNum)\n",
    "    if (modNum == modNum2):\n",
    "        continue\n",
    "    else:\n",
    "        digitCount += 1\n",
    "print (digitCount, end = \".\")"
   ]
  },
  {
   "cell_type": "code",
   "execution_count": 9,
   "metadata": {},
   "outputs": [
    {
     "name": "stdout",
     "output_type": "stream",
     "text": [
      "Please enter a number: 3\n",
      "  *\n",
      " * * \n",
      "***** \n",
      " * * \n",
      "  *"
     ]
    }
   ],
   "source": [
    "#HARD02\n",
    "\n",
    "num = int(input(\"Please enter a number: \"))\n",
    "rowQuantity = num + 1\n",
    "\n",
    "#STEP 01\n",
    "for rowCount in range (1,rowQuantity,1):\n",
    "    limit1 = rowQuantity - rowCount\n",
    "    limit2 = (2 * rowCount) - 3\n",
    "    for spaceCount in range (1, limit1, 1):\n",
    "        print (\" \", end = \"\")\n",
    "    if rowCount == 1:\n",
    "        print (\"*\")\n",
    "        continue\n",
    "    else: \n",
    "        print (\"*\", end = \"\")\n",
    "        \n",
    "    if rowCount == rowQuantity - 1:\n",
    "        for starCount in range (0, limit2, 1):\n",
    "            print (\"*\", end = \"\")\n",
    "    else:\n",
    "        for starCount in range (0, limit2, 1):\n",
    "            print (\" \", end = \"\") \n",
    "            \n",
    "    print (\"*\", end = \"\")\n",
    "    print (\" \")\n",
    "\n",
    "#STEP 02\n",
    "rowQuantity2 = num\n",
    "for rowCount2 in range (1,rowQuantity2,1):\n",
    "    limit3 = rowCount2\n",
    "    limit4 = ((2*num)-3) - ((2*rowCount2)-2)\n",
    "    for spaceCount2 in range (0, limit3, 1):\n",
    "        print (\" \", end =\"\")\n",
    "    print (\"*\", end = \"\")\n",
    "    for starCount2 in range (0, limit4 - 2, 1):    \n",
    "        if rowCount2 == rowQuantity2 - 1:\n",
    "            break\n",
    "        else: \n",
    "            print (\" \", end = \"\")     \n",
    "    if rowCount2 == rowQuantity2 - 1:\n",
    "        continue\n",
    "    else:\n",
    "        print (\"*\", end = \"\")        \n",
    "    print (\" \")"
   ]
  },
  {
   "cell_type": "code",
   "execution_count": 10,
   "metadata": {},
   "outputs": [
    {
     "name": "stdout",
     "output_type": "stream",
     "text": [
      "Please enter a number: 37\n",
      "7\n"
     ]
    }
   ],
   "source": [
    "#HARD03\n",
    "\n",
    "num = int(input(\"Please enter a number: \"))\n",
    "binaryNum = \"\"\n",
    "newBinaryNum = \"\"\n",
    "oneCount = 0\n",
    "\n",
    "#CONVERTING TO REVERSED BINARY\n",
    "while (num > 0) :\n",
    "    remainder = num % 2 \n",
    "    binaryNum += str(remainder) \n",
    "    num = num // 2 \n",
    "#print (binaryNum)\n",
    "    \n",
    "#COUNTING THE NUMBER OF ONES\n",
    "num2 = int(binaryNum)\n",
    "\n",
    "while num2 > 0:\n",
    "    remainder2 = num2 % 10\n",
    "    if remainder2 == 1:\n",
    "        newBinaryNum += str(remainder) \n",
    "        num2 = num2 // 10\n",
    "    else: \n",
    "        num2 = num2 // 10\n",
    "#print (newBinaryNum)\n",
    "\n",
    "#CONVERTING THE ONE'S TO BINARY\n",
    "denaryNum = int(newBinaryNum,2)\n",
    "print (denaryNum)"
   ]
  },
  {
   "cell_type": "code",
   "execution_count": null,
   "metadata": {},
   "outputs": [],
   "source": []
  }
 ],
 "metadata": {
  "kernelspec": {
   "display_name": "Python 3",
   "language": "python",
   "name": "python3"
  },
  "language_info": {
   "codemirror_mode": {
    "name": "ipython",
    "version": 3
   },
   "file_extension": ".py",
   "mimetype": "text/x-python",
   "name": "python",
   "nbconvert_exporter": "python",
   "pygments_lexer": "ipython3",
   "version": "3.7.6"
  }
 },
 "nbformat": 4,
 "nbformat_minor": 4
}
