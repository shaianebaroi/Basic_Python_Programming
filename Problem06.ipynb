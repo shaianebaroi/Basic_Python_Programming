{
 "cells": [
  {
   "cell_type": "code",
   "execution_count": 1,
   "metadata": {},
   "outputs": [
    {
     "name": "stdout",
     "output_type": "stream",
     "text": [
      "Let's Calculate!\n",
      "Value 1: 1\n",
      "Operator: +\n",
      "Value 2: 2\n",
      "Result:  3\n"
     ]
    }
   ],
   "source": [
    "#QUESTION01\n",
    "#DESIGN CLASS\n",
    "class Calculator():\n",
    "    def __init__ (self, num1, operator, num2):\n",
    "        self.num1 = int(num1)\n",
    "        self.operator = operator\n",
    "        self.num2 = int(num2)\n",
    "    \n",
    "        #ADDITION\n",
    "        if (self.operator == \"+\"):\n",
    "            sum = self.num1 + self.num2\n",
    "            print (\"Result: \", sum)\n",
    "        \n",
    "        #SUBTRACTION\n",
    "        if (self.operator == \"-\"):\n",
    "            difference = self.num1 - self.num2\n",
    "            print (\"Result: \", difference)\n",
    "            \n",
    "        #MULTIPLICATION\n",
    "        if (self.operator == \"*\"):\n",
    "            product = self.num1 * self.num2\n",
    "            print (\"Result: \", product)\n",
    "        \n",
    "        #DIVISION\n",
    "        if (self.operator == \"/\"):\n",
    "            quotient = self.num1 / self.num2\n",
    "            print (\"Result: \", quotient)\n",
    "            \n",
    "#MAIN CODE\n",
    "print (\"Let's Calculate!\")\n",
    "\n",
    "#INPUT\n",
    "num1 = input(\"Value 1: \")\n",
    "operator = input(\"Operator: \")\n",
    "num2 = input(\"Value 2: \")\n",
    "\n",
    "#CALLING THE METHOD        \n",
    "result = Calculator(num1, operator, num2) "
   ]
  },
  {
   "cell_type": "code",
   "execution_count": 2,
   "metadata": {},
   "outputs": [
    {
     "name": "stdout",
     "output_type": "stream",
     "text": [
      "Hello!\n",
      "Sam, you have puchased 3 item(s):\n",
      "chips\n",
      "chocolate\n",
      "orange juice\n",
      "-----------------------------\n",
      "Hello David!\n",
      "David, you have puchased 1 item(s):\n",
      "orange juice\n"
     ]
    }
   ],
   "source": [
    "#QUESTION02\n",
    "#DESIGN CLASS\n",
    "class Customer():\n",
    "    def __init__ (self, name):\n",
    "        self.name = name\n",
    "    \n",
    "    def greet(self, name = None):\n",
    "        if (name == None):\n",
    "            print (\"Hello!\")\n",
    "        else:\n",
    "            print (\"Hello \" + name + \"!\")\n",
    "        \n",
    "    def purchase(self, *items):  \n",
    "        items_list = list(items)\n",
    "        length = len (items_list)             \n",
    "        print (self.name + \", you have puchased \" + str(length) + \" item(s):\")\n",
    "        count = 0\n",
    "        while (count < length):\n",
    "            print (items_list[count])\n",
    "            count += 1\n",
    "        \n",
    "#MAIN CODE\n",
    "customer_1 = Customer(\"Sam\")\n",
    "customer_1.greet()\n",
    "customer_1.purchase(\"chips\", \"chocolate\", \"orange juice\")\n",
    "print(\"-----------------------------\")\n",
    "customer_2 = Customer(\"David\")\n",
    "customer_2.greet(\"David\")\n",
    "customer_2.purchase(\"orange juice\")"
   ]
  },
  {
   "cell_type": "code",
   "execution_count": 3,
   "metadata": {},
   "outputs": [
    {
     "name": "stdout",
     "output_type": "stream",
     "text": [
      "Kunfu is a Male Panda Bear who is 5 years old\n",
      "Pan Pan is a Female Panda Bear who is 3 years old\n",
      "Ming Ming is a Female Panda Bear who is 8 years old\n",
      "Pan Pan sleeps 10 hours daily and should have Broccoli Chicken\n",
      "Kunfu sleeps 4 hours daily and should have Mixed Veggies\n",
      "Ming Ming's duration is unknown thus should have only bamboo leaves\n"
     ]
    }
   ],
   "source": [
    "#QUESTION03\n",
    "#DESIGN CLASS\n",
    "class Panda():\n",
    "    def __init__ (self, name, gender, age):\n",
    "        self.name = name\n",
    "        self.gender = gender\n",
    "        self.age = age\n",
    "    \n",
    "    #SLEEP TIMES AND CORRESPONDING OUTPUT\n",
    "    def sleep (self, time = None):\n",
    "        if (time == None):\n",
    "            return (self.name + \"'s duration is unknown thus should have only bamboo leaves\") \n",
    "        elif (time >= 3) and (time <= 5):\n",
    "            return (self.name + \" sleeps \" + str(time) + \" hours daily and should have Mixed Veggies\") \n",
    "        elif (time >= 6) and (time <= 8):\n",
    "            return (self.name + \" sleeps \" + str(time) + \" hours daily and should have Eggplant & Tofu\")\n",
    "        elif (time >= 9) and (time <= 11):\n",
    "            return (self.name + \" sleeps \" + str(time) + \" hours daily and should have Broccoli Chicken\")\n",
    "       \n",
    "#MAIN CODE\n",
    "panda1 = Panda(\"Kunfu\",\"Male\", 5)\n",
    "panda2=Panda(\"Pan Pan\",\"Female\",3)\n",
    "panda3=Panda(\"Ming Ming\",\"Female\",8)\n",
    "print(\"{} is a {} Panda Bear who is {} years old\".format(panda1.name,panda1.gender,panda1.age))\n",
    "print(\"{} is a {} Panda Bear who is {} years old\".format(panda2.name,panda2.gender,panda2.age))\n",
    "print(\"{} is a {} Panda Bear who is {} years old\".format(panda3.name,panda3.gender,panda3.age))\n",
    "\n",
    "print(panda2.sleep(10))\n",
    "print(panda1.sleep(4))\n",
    "print(panda3.sleep())"
   ]
  },
  {
   "cell_type": "code",
   "execution_count": 4,
   "metadata": {},
   "outputs": [
    {
     "name": "stdout",
     "output_type": "stream",
     "text": [
      "White cat is sitting\n",
      "Black cat is sitting\n",
      "Brown cat is jumping\n",
      "Red cat is purring\n",
      "Blue cat is sitting\n",
      "Purple cat is jumping\n"
     ]
    }
   ],
   "source": [
    "#QUESTION04\n",
    "#DESIGN CLASS\n",
    "class Cat():\n",
    "    def __init__(self, color = \"White\", action = \"sitting\"):\n",
    "        self.color = color\n",
    "        self.action = action\n",
    "        \n",
    "    #METHOD FOR PRINTING\n",
    "    def printCat(self):\n",
    "        print (self.color + \" cat is \" + self.action) \n",
    "        \n",
    "    #METHOD FOR CHANGING COLOR\n",
    "    def changeColor (self, color):\n",
    "        self.color = color\n",
    "      \n",
    "#MAIN CODE\n",
    "c1 = Cat()\n",
    "c2 = Cat(\"Black\")\n",
    "c3 = Cat(\"Brown\", \"jumping\")\n",
    "c4 = Cat(\"Red\", \"purring\")\n",
    "c1.printCat()\n",
    "c2.printCat()\n",
    "c3.printCat()\n",
    "c4.printCat()\n",
    "c1.changeColor(\"Blue\")\n",
    "c3.changeColor(\"Purple\")\n",
    "c1.printCat()\n",
    "c3.printCat()"
   ]
  },
  {
   "cell_type": "code",
   "execution_count": 5,
   "metadata": {},
   "outputs": [
    {
     "name": "stdout",
     "output_type": "stream",
     "text": [
      "(0,0)\n",
      "(0,1)\n",
      "(-1,1)\n",
      "(-1,0)\n"
     ]
    }
   ],
   "source": [
    "#QUESTION05\n",
    "#DESIGN CLASS\n",
    "class Vehicle():\n",
    "    def __init__(self):\n",
    "        self.horizontal = 0\n",
    "        self.vertical = 0\n",
    "        \n",
    "    def print_position(self):\n",
    "        print( \"(\" + str(self.horizontal) + \",\" + str(self.vertical) + \")\") \n",
    "        \n",
    "    #MOVING UP (POSITIVE) IN THE VERTICAL DIRECTION  \n",
    "    def moveUp(self):\n",
    "        self.vertical = self.vertical + 1\n",
    "        \n",
    "    #MOVING DOWN (NEGATIVE) IN THE VERTICAL DIRECTION    \n",
    "    def moveDown(self):\n",
    "        self.vertical = self.vertical - 1\n",
    "    \n",
    "    #MOVING RIGHT (POSITIVE) IN THE VERTICAL DIRECTION\n",
    "    def moveRight(self):\n",
    "        self.horizontal = self.horizontal + 1\n",
    "    \n",
    "    #MOVING LEFT (NEGATIVE) IN THE VERTICAL DIRECTION\n",
    "    def moveLeft(self):\n",
    "        self.horizontal = self.horizontal - 1\n",
    "\n",
    "#MAIN CODE\n",
    "car = Vehicle()\n",
    "car.print_position()\n",
    "car.moveUp()\n",
    "car.print_position()\n",
    "car.moveLeft()\n",
    "car.print_position()\n",
    "car.moveDown()\n",
    "car.print_position()\n",
    "car.moveRight()"
   ]
  },
  {
   "cell_type": "code",
   "execution_count": null,
   "metadata": {},
   "outputs": [],
   "source": []
  }
 ],
 "metadata": {
  "kernelspec": {
   "display_name": "Python 3",
   "language": "python",
   "name": "python3"
  },
  "language_info": {
   "codemirror_mode": {
    "name": "ipython",
    "version": 3
   },
   "file_extension": ".py",
   "mimetype": "text/x-python",
   "name": "python",
   "nbconvert_exporter": "python",
   "pygments_lexer": "ipython3",
   "version": "3.7.6"
  }
 },
 "nbformat": 4,
 "nbformat_minor": 4
}
